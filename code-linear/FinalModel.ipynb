{
 "cells": [
  {
   "cell_type": "markdown",
   "metadata": {},
   "source": [
    "# Final Model\n",
    "\n",
    "Simon Schellaert\n",
    "\n",
    "This notebook implements the final model with tuned hyperparameters. The tuning of these hyperparameters was performed in `Experiments.ipynb`."
   ]
  },
  {
   "cell_type": "markdown",
   "metadata": {},
   "source": [
    "## 0. Required dependencies\n",
    "\n",
    "We start by including some packages that will be used in the remainder of the notebook. This prevents us from cluttering the other cells with imports."
   ]
  },
  {
   "cell_type": "code",
   "execution_count": 9,
   "metadata": {
    "ExecuteTime": {
     "end_time": "2018-11-26T14:36:22.080511Z",
     "start_time": "2018-11-26T14:36:22.051882Z"
    }
   },
   "outputs": [],
   "source": [
    "# standard packages used to handle files\n",
    "import sys\n",
    "import os \n",
    "import glob\n",
    "import time\n",
    "\n",
    "# commonly used library for data manipilation\n",
    "import pandas as pd\n",
    "\n",
    "# numerical\n",
    "import numpy as np\n",
    "\n",
    "# handle images - opencv\n",
    "import cv2\n",
    "\n",
    "# machine learning library\n",
    "import sklearn\n",
    "import sklearn.preprocessing\n",
    "\n",
    "#used to serialize python objects to disk and load them back to memory\n",
    "import pickle\n",
    "\n",
    "#plotting\n",
    "import matplotlib.pyplot as plt\n",
    "\n",
    "# helper functions kindly provided for you by Matthias \n",
    "import helpers\n",
    "# specific helper functions for feature extraction\n",
    "import features\n",
    "\n",
    "# tell matplotlib that we plot in a notebook\n",
    "%matplotlib notebook\n",
    "\n",
    "# filepath constants\n",
    "DATA_BASE_PATH = './'\n",
    "OUTPUT_PATH='./'\n",
    "\n",
    "DATA_TRAIN_PATH = os.path.join(DATA_BASE_PATH,'train')\n",
    "DATA_TEST_PATH = os.path.join(DATA_BASE_PATH,'test')\n",
    "\n",
    "FEATURE_BASE_PATH = os.path.join(OUTPUT_PATH,'features')\n",
    "FEATURE_TRAIN_PATH = os.path.join(FEATURE_BASE_PATH,'train')\n",
    "FEATURE_TEST_PATH = os.path.join(FEATURE_BASE_PATH,'test')\n",
    "\n",
    "PREDICTION_PATH = os.path.join(OUTPUT_PATH,'predictions')\n",
    "\n",
    "# filepatterns to write out features\n",
    "FILEPATTERN_DESCRIPTOR_TRAIN = os.path.join(FEATURE_TRAIN_PATH,'train_features_{}.pkl')\n",
    "FILEPATTERN_DESCRIPTOR_TRAIN_CODEBOOK = os.path.join(FEATURE_TRAIN_PATH,'train_features_codebook_{}.pkl')\n",
    "FILEPATTERN_DESCRIPTOR_TEST = os.path.join(FEATURE_TEST_PATH,'test_features_{}.pkl')\n"
   ]
  },
  {
   "cell_type": "markdown",
   "metadata": {},
   "source": [
    "## 1. Augmenting the data set \n",
    "\n",
    "The model employs data augmentation in the form of horizontal flipped version of the images. To reduce the computation time while training, we flip all training images beforehand. The flipped version of `bobcat_0001.jpg` is saved as `bobcat_0001_flip.jpg`. To create these extra images, we use the ImageMagick convert utility. Concretely, we can generate flipped versions for all images by running the command below in each class folder.\n",
    "\n",
    "```sh\n",
    "for f in *.jpg; do convert $f -flop $(basename $f .jpg)_flip.jpg; done\n",
    "```"
   ]
  },
  {
   "cell_type": "markdown",
   "metadata": {},
   "source": [
    "## 2. Loading the train labels\n",
    "First, let's get the train labels. The train data is ordered in a way such that all images in a class are stored in a separate folder, thus we can simply get a string representation of the labels by using the folder names."
   ]
  },
  {
   "cell_type": "code",
   "execution_count": null,
   "metadata": {
    "ExecuteTime": {
     "end_time": "2018-11-26T14:33:22.518720Z",
     "start_time": "2018-11-26T14:33:21.442Z"
    }
   },
   "outputs": [],
   "source": [
    "folder_paths = glob.glob(os.path.join(DATA_TRAIN_PATH,'*'))\n",
    "label_strings = np.sort(np.array([os.path.basename(path) for path in folder_paths]))\n",
    "num_classes = label_strings.shape[0]"
   ]
  },
  {
   "cell_type": "code",
   "execution_count": null,
   "metadata": {
    "ExecuteTime": {
     "end_time": "2018-11-26T14:33:22.521701Z",
     "start_time": "2018-11-26T14:33:22.426Z"
    }
   },
   "outputs": [],
   "source": [
    "train_paths = dict((label_string, helpers.getImgPaths(os.path.join(DATA_TRAIN_PATH,label_string))) for label_string in label_strings)\n",
    "test_paths = helpers.getImgPaths(DATA_TEST_PATH)"
   ]
  },
  {
   "cell_type": "markdown",
   "metadata": {},
   "source": [
    "## 3. Loading the BoVW image features\n",
    "\n",
    "To extract the features from the images (and their flipped versions), run the code in `ExtractFeatures.ipynb`. The extraction of the features is the analogous to the extraction provided in the example notebook. This time, however, we extract 3000 features from each images (see `features.py`). Once this extraction is done, we load the features here."
   ]
  },
  {
   "cell_type": "code",
   "execution_count": 2,
   "metadata": {
    "ExecuteTime": {
     "end_time": "2018-11-26T14:33:25.695422Z",
     "start_time": "2018-11-26T14:33:24.149045Z"
    }
   },
   "outputs": [],
   "source": [
    "with open(FILEPATTERN_DESCRIPTOR_TRAIN.format('boost_desc'), 'rb') as pkl_file_train:\n",
    "    train_features_from_pkl_boost_desc = pickle.load(pkl_file_train)"
   ]
  },
  {
   "cell_type": "code",
   "execution_count": 3,
   "metadata": {
    "ExecuteTime": {
     "end_time": "2018-11-26T14:33:29.976539Z",
     "start_time": "2018-11-26T14:33:29.225568Z"
    }
   },
   "outputs": [],
   "source": [
    "with open(FILEPATTERN_DESCRIPTOR_TRAIN.format('daisy'),'rb') as pkl_file_train:\n",
    "    train_features_from_pkl_daisy = pickle.load(pkl_file_train)"
   ]
  },
  {
   "cell_type": "code",
   "execution_count": 4,
   "metadata": {
    "ExecuteTime": {
     "end_time": "2018-11-26T14:33:39.216139Z",
     "start_time": "2018-11-26T14:33:36.924262Z"
    }
   },
   "outputs": [],
   "source": [
    "with open(FILEPATTERN_DESCRIPTOR_TRAIN.format('freak'),'rb') as pkl_file_train:\n",
    "    train_features_from_pkl_freak = pickle.load(pkl_file_train)"
   ]
  },
  {
   "cell_type": "code",
   "execution_count": 5,
   "metadata": {
    "ExecuteTime": {
     "end_time": "2018-11-26T14:33:50.264533Z",
     "start_time": "2018-11-26T14:33:48.960301Z"
    }
   },
   "outputs": [],
   "source": [
    "with open(FILEPATTERN_DESCRIPTOR_TRAIN.format('lucid'),'rb') as pkl_file_train:\n",
    "    train_features_from_pkl_lucid = pickle.load(pkl_file_train)"
   ]
  },
  {
   "cell_type": "code",
   "execution_count": 6,
   "metadata": {
    "ExecuteTime": {
     "end_time": "2018-11-26T14:34:01.193424Z",
     "start_time": "2018-11-26T14:33:59.331147Z"
    }
   },
   "outputs": [],
   "source": [
    "with open(FILEPATTERN_DESCRIPTOR_TRAIN.format('orb'),'rb') as pkl_file_train:\n",
    "    train_features_from_pkl_orb = pickle.load(pkl_file_train)"
   ]
  },
  {
   "cell_type": "code",
   "execution_count": 7,
   "metadata": {
    "ExecuteTime": {
     "end_time": "2018-11-26T14:34:22.930052Z",
     "start_time": "2018-11-26T14:34:15.852714Z"
    }
   },
   "outputs": [],
   "source": [
    "with open(FILEPATTERN_DESCRIPTOR_TRAIN.format('sift'),'rb') as pkl_file_train:\n",
    "    train_features_from_pkl_sift = pickle.load(pkl_file_train)"
   ]
  },
  {
   "cell_type": "code",
   "execution_count": 8,
   "metadata": {
    "ExecuteTime": {
     "end_time": "2018-11-26T14:34:49.798422Z",
     "start_time": "2018-11-26T14:34:43.970487Z"
    }
   },
   "outputs": [],
   "source": [
    "with open(FILEPATTERN_DESCRIPTOR_TRAIN.format('vgg'),'rb') as pkl_file_train:\n",
    "    train_features_from_pkl_vgg = pickle.load(pkl_file_train)"
   ]
  },
  {
   "cell_type": "markdown",
   "metadata": {},
   "source": [
    "Next, we create the codebook for both SIFT and DAISY based on the extracted features. Note that the hyperparameters chosen here are already optimized. This optimization was done in `Experiment.ipynb`."
   ]
  },
  {
   "cell_type": "code",
   "execution_count": 11,
   "metadata": {
    "ExecuteTime": {
     "end_time": "2018-11-26T14:46:01.409741Z",
     "start_time": "2018-11-26T14:46:01.405151Z"
    }
   },
   "outputs": [],
   "source": [
    "# boost_desc, daisy, freak, lucid, orb, sift, vgg    "
   ]
  },
  {
   "cell_type": "code",
   "execution_count": 12,
   "metadata": {
    "ExecuteTime": {
     "end_time": "2018-11-26T14:54:56.121543Z",
     "start_time": "2018-11-26T14:49:36.617066Z"
    }
   },
   "outputs": [
    {
     "name": "stdout",
     "output_type": "stream",
     "text": [
      "training took 40.02533268928528 seconds\n",
      "training took 56.00734543800354 seconds\n",
      "training took 39.35566806793213 seconds\n",
      "training took 9.923573017120361 seconds\n",
      "training took 53.90542936325073 seconds\n",
      "training took 65.42725706100464 seconds\n",
      "training took 52.77587556838989 seconds\n"
     ]
    }
   ],
   "source": [
    "clustered_codebook_boost_desc = helpers.createCodebook(train_features_from_pkl_boost_desc, codebook_size = 500)\n",
    "with open(FILEPATTERN_DESCRIPTOR_TRAIN_CODEBOOK.format('boost_desc'), 'wb') as pkl_file_train_codebook:\n",
    "    pickle.dump(clustered_codebook_boost_desc, pkl_file_train_codebook)\n",
    "\n",
    "clustered_codebook_daisy = helpers.createCodebook(train_features_from_pkl_daisy, codebook_size = 500)\n",
    "with open(FILEPATTERN_DESCRIPTOR_TRAIN_CODEBOOK.format('daisy'), 'wb') as pkl_file_train_codebook:\n",
    "    pickle.dump(clustered_codebook_daisy, pkl_file_train_codebook)\n",
    "    \n",
    "clustered_codebook_freak = helpers.createCodebook(train_features_from_pkl_freak, codebook_size = 500)\n",
    "with open(FILEPATTERN_DESCRIPTOR_TRAIN_CODEBOOK.format('freak'), 'wb') as pkl_file_train_codebook:\n",
    "    pickle.dump(clustered_codebook_freak, pkl_file_train_codebook)\n",
    "    \n",
    "clustered_codebook_lucid = helpers.createCodebook(train_features_from_pkl_lucid, codebook_size = 500)\n",
    "with open(FILEPATTERN_DESCRIPTOR_TRAIN_CODEBOOK.format('lucid'), 'wb') as pkl_file_train_codebook:\n",
    "    pickle.dump(clustered_codebook_lucid, pkl_file_train_codebook)\n",
    "    \n",
    "clustered_codebook_orb = helpers.createCodebook(train_features_from_pkl_orb, codebook_size = 500)\n",
    "with open(FILEPATTERN_DESCRIPTOR_TRAIN_CODEBOOK.format('orb'), 'wb') as pkl_file_train_codebook:\n",
    "    pickle.dump(clustered_codebook_orb, pkl_file_train_codebook)\n",
    "    \n",
    "clustered_codebook_sift = helpers.createCodebook(train_features_from_pkl_sift, codebook_size = 500)\n",
    "with open(FILEPATTERN_DESCRIPTOR_TRAIN_CODEBOOK.format('sift'), 'wb') as pkl_file_train_codebook:\n",
    "    pickle.dump(clustered_codebook_sift, pkl_file_train_codebook)   \n",
    "    \n",
    "clustered_codebook_vgg = helpers.createCodebook(train_features_from_pkl_vgg, codebook_size = 500)\n",
    "with open(FILEPATTERN_DESCRIPTOR_TRAIN_CODEBOOK.format('vgg'), 'wb') as pkl_file_train_codebook:\n",
    "    pickle.dump(clustered_codebook_vgg, pkl_file_train_codebook)"
   ]
  },
  {
   "cell_type": "markdown",
   "metadata": {},
   "source": [
    "Next, we construct a feature vector for all images for both the SIFT and DAISY features. To avoid duplicating code, we define two helpers function that will be used for both preprocessing the training and test data."
   ]
  },
  {
   "cell_type": "code",
   "execution_count": 13,
   "metadata": {
    "ExecuteTime": {
     "end_time": "2018-11-26T14:56:22.384837Z",
     "start_time": "2018-11-26T14:56:22.370718Z"
    }
   },
   "outputs": [],
   "source": [
    "def create_histogram_features(paths, number_of_bins = 10):\n",
    "    \"\"\" Returns a NumPy array containing the histogram feature given a list of image paths \"\"\"\n",
    "    features = []\n",
    "    \n",
    "    for path in paths:\n",
    "        path = path.decode('UTF-8')\n",
    "        img = cv2.imread(path)\n",
    "        hist = cv2.calcHist([img], [0, 1, 2], None, [number_of_bins, number_of_bins, number_of_bins], 3 * [0, 256]).flatten()\n",
    "        features.append(hist / np.sum(hist))\n",
    "        \n",
    "    return np.array(features)\n",
    "\n",
    "def convert_features_to_bow(features, codebook):\n",
    "    \"\"\" Converts an array of features to a BoVW representation using the provided codebook \"\"\"\n",
    "    bow_vectors = []\n",
    "    \n",
    "    for feature in features:\n",
    "        bow_vector = helpers.encodeImage(feature.data, codebook)\n",
    "        bow_vectors.append(bow_vector)\n",
    "\n",
    "    return bow_vectors    "
   ]
  },
  {
   "cell_type": "markdown",
   "metadata": {},
   "source": [
    "Using these helper functions, we construct the input data for each training set."
   ]
  },
  {
   "cell_type": "code",
   "execution_count": 15,
   "metadata": {
    "ExecuteTime": {
     "end_time": "2018-11-26T15:03:17.627482Z",
     "start_time": "2018-11-26T15:00:07.334814Z"
    }
   },
   "outputs": [],
   "source": [
    "# boost_desc, daisy, freak, lucid, orb, sift, vgg    \n",
    "train_data_hist = create_histogram_features([feature.path for feature in train_features_from_pkl_sift])\n",
    "train_data_boost_desc = convert_features_to_bow(train_features_from_pkl_boost_desc, clustered_codebook_boost_desc)\n",
    "train_data_daisy = convert_features_to_bow(train_features_from_pkl_daisy, clustered_codebook_daisy)\n",
    "train_data_freak = convert_features_to_bow(train_features_from_pkl_freak, clustered_codebook_freak)\n",
    "train_data_lucid = convert_features_to_bow(train_features_from_pkl_lucid, clustered_codebook_lucid)\n",
    "train_data_orb = convert_features_to_bow(train_features_from_pkl_orb, clustered_codebook_orb)\n",
    "train_data_sift = convert_features_to_bow(train_features_from_pkl_sift, clustered_codebook_sift)\n",
    "train_data_vgg = convert_features_to_bow(train_features_from_pkl_vgg, clustered_codebook_vgg)"
   ]
  },
  {
   "cell_type": "code",
   "execution_count": 16,
   "metadata": {
    "ExecuteTime": {
     "end_time": "2018-11-26T15:04:27.082599Z",
     "start_time": "2018-11-26T15:04:26.830734Z"
    }
   },
   "outputs": [],
   "source": [
    "train_data = np.concatenate([train_data_hist, train_data_boost_desc, train_data_daisy, train_data_freak, train_data_lucid, train_data_orb, train_data_sift, train_data_vgg], axis=1)"
   ]
  },
  {
   "cell_type": "markdown",
   "metadata": {},
   "source": [
    "Next, we repeat this procedure for the test data set."
   ]
  },
  {
   "cell_type": "code",
   "execution_count": 17,
   "metadata": {
    "code_folding": []
   },
   "outputs": [],
   "source": [
    "# boost_desc, daisy, freak, lucid, orb, sift, vgg    \n",
    "\n",
    "with open(FILEPATTERN_DESCRIPTOR_TEST.format('boost_desc'),'rb') as pkl_file_test:\n",
    "    test_features_from_pkl_boost_desc = pickle.load(pkl_file_test)\n",
    "\n",
    "with open(FILEPATTERN_DESCRIPTOR_TEST.format('daisy'),'rb') as pkl_file_test:\n",
    "    test_features_from_pkl_daisy = pickle.load(pkl_file_test)\n",
    "\n",
    "with open(FILEPATTERN_DESCRIPTOR_TEST.format('freak'),'rb') as pkl_file_test:\n",
    "    test_features_from_pkl_freak = pickle.load(pkl_file_test)\n",
    "\n",
    "with open(FILEPATTERN_DESCRIPTOR_TEST.format('lucid'),'rb') as pkl_file_test:\n",
    "    test_features_from_pkl_lucid = pickle.load(pkl_file_test)\n",
    "\n",
    "with open(FILEPATTERN_DESCRIPTOR_TEST.format('orb'),'rb') as pkl_file_test:\n",
    "    test_features_from_pkl_orb = pickle.load(pkl_file_test)\n",
    "\n",
    "with open(FILEPATTERN_DESCRIPTOR_TEST.format('sift'),'rb') as pkl_file_test:\n",
    "    test_features_from_pkl_daisy = pickle.load(pkl_file_test)\n",
    "\n",
    "with open(FILEPATTERN_DESCRIPTOR_TEST.format('vgg'),'rb') as pkl_file_test:\n",
    "    test_features_from_pkl_daisy = pickle.load(pkl_file_test)\n",
    "\n",
    "test_data_sift = convert_features_to_bow(test_features_from_pkl_sift, clustered_codebook_sift)\n",
    "test_data_daisy = convert_features_to_bow(test_features_from_pkl_daisy, clustered_codebook_daisy)\n",
    "test_data_hist = create_histogram_features([feature.path for feature in test_features_from_pkl_sift])\n",
    "\n",
    "test_data = np.concatenate([test_data_sift, test_data_daisy, test_data_hist], axis=1)"
   ]
  },
  {
   "cell_type": "markdown",
   "metadata": {},
   "source": [
    "Finally, we convert the string labels to numerical labels before feeding them to our model."
   ]
  },
  {
   "cell_type": "code",
   "execution_count": null,
   "metadata": {
    "ExecuteTime": {
     "end_time": "2018-11-26T15:04:25.065059Z",
     "start_time": "2018-11-26T15:03:48.746Z"
    }
   },
   "outputs": [],
   "source": [
    "label_encoder = sklearn.preprocessing.LabelEncoder()\n",
    "label_encoder.fit(label_strings)\n",
    "\n",
    "train_labels_raw = [image.label for image in train_features_from_pkl_sift]\n",
    "train_labels = label_encoder.transform(train_labels_raw)"
   ]
  },
  {
   "cell_type": "markdown",
   "metadata": {},
   "source": [
    "## 4. Training the model\n",
    "For our naive sample submission we assume that every class occurs with the equal probability, thus we assign an equal probability over all classes to each image. <code>helpers.writePredictionsToCsv</code> can be used to write out predictions as a csv file ready to be submitted to the competition page"
   ]
  },
  {
   "cell_type": "code",
   "execution_count": null,
   "metadata": {},
   "outputs": [],
   "source": [
    "from sklearn.svm import SVC\n",
    "\n",
    "classifier = SVC(random_state=0, probability=True, kernel='linear', C=0.9)\n",
    "classifier.fit(train_data, train_labels)"
   ]
  },
  {
   "cell_type": "markdown",
   "metadata": {},
   "source": [
    "## 5. Generating predictions for the test set"
   ]
  },
  {
   "cell_type": "markdown",
   "metadata": {},
   "source": [
    "We now have a trained model we can use to generate predictions. Generating a 2-dimensional array of probabilities is easy using the `predict_proba` function. Afterwards, we save the predictions in a CSV-file. "
   ]
  },
  {
   "cell_type": "code",
   "execution_count": 20,
   "metadata": {},
   "outputs": [],
   "source": [
    "predictions = classifier.predict_proba(test_data)\n",
    "\n",
    "pred_file_path = os.path.join(PREDICTION_PATH, helpers.generateUniqueFilename('predictions','csv'))\n",
    "helpers.writePredictionsToCsv(predictions, pred_file_path, label_strings)"
   ]
  }
 ],
 "metadata": {
  "kernelspec": {
   "display_name": "Python 3",
   "language": "python",
   "name": "python3"
  },
  "toc": {
   "base_numbering": 1,
   "nav_menu": {},
   "number_sections": true,
   "sideBar": true,
   "skip_h1_title": false,
   "title_cell": "Table of Contents",
   "title_sidebar": "Contents",
   "toc_cell": false,
   "toc_position": {},
   "toc_section_display": true,
   "toc_window_display": false
  },
  "varInspector": {
   "cols": {
    "lenName": 16,
    "lenType": 16,
    "lenVar": 40
   },
   "kernels_config": {
    "python": {
     "delete_cmd_postfix": "",
     "delete_cmd_prefix": "del ",
     "library": "var_list.py",
     "varRefreshCmd": "print(var_dic_list())"
    },
    "r": {
     "delete_cmd_postfix": ") ",
     "delete_cmd_prefix": "rm(",
     "library": "var_list.r",
     "varRefreshCmd": "cat(var_dic_list()) "
    }
   },
   "types_to_exclude": [
    "module",
    "function",
    "builtin_function_or_method",
    "instance",
    "_Feature"
   ],
   "window_display": false
  }
 },
 "nbformat": 4,
 "nbformat_minor": 2
}
